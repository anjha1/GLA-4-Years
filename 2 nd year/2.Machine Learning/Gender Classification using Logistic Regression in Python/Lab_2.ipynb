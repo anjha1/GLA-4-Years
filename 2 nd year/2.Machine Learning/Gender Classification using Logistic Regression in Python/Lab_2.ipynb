{
  "metadata": {
    "kernelspec": {
      "language": "python",
      "display_name": "Python 3",
      "name": "python3"
    },
    "language_info": {
      "name": "python",
      "version": "3.10.14",
      "mimetype": "text/x-python",
      "codemirror_mode": {
        "name": "ipython",
        "version": 3
      },
      "pygments_lexer": "ipython3",
      "nbconvert_exporter": "python",
      "file_extension": ".py"
    },
    "kaggle": {
      "accelerator": "none",
      "dataSources": [
        {
          "sourceId": 1539868,
          "sourceType": "datasetVersion",
          "datasetId": 908128
        }
      ],
      "dockerImageVersionId": 30786,
      "isInternetEnabled": true,
      "language": "python",
      "sourceType": "notebook",
      "isGpuEnabled": false
    },
    "colab": {
      "provenance": [],
      "include_colab_link": true
    }
  },
  "nbformat_minor": 0,
  "nbformat": 4,
  "cells": [
    {
      "cell_type": "markdown",
      "metadata": {
        "id": "view-in-github",
        "colab_type": "text"
      },
      "source": [
        "<a href=\"https://colab.research.google.com/github/anjha1/GLA-4-Years/blob/main/2%20nd%20year/2.Machine%20Learning/Gender%20Classification%20using%20Logistic%20Regression%20in%20Python/Lab_2.ipynb\" target=\"_parent\"><img src=\"https://colab.research.google.com/assets/colab-badge.svg\" alt=\"Open In Colab\"/></a>"
      ]
    },
    {
      "cell_type": "code",
      "source": [
        "# This Python 3 environment comes with many helpful analytics libraries installed\n",
        "# It is defined by the kaggle/python Docker image: https://github.com/kaggle/docker-python\n",
        "# For example, here's several helpful packages to load\n",
        "\n",
        "import numpy as np # linear algebra\n",
        "import pandas as pd # data processing, CSV file I/O (e.g. pd.read_csv)\n",
        "\n",
        "# Input data files are available in the read-only \"../input/\" directory\n",
        "# For example, running this (by clicking run or pressing Shift+Enter) will list all files under the input directory\n",
        "\n",
        "import os\n",
        "for dirname, _, filenames in os.walk('/kaggle/input'):\n",
        "    for filename in filenames:\n",
        "        print(os.path.join(dirname, filename))\n",
        "\n",
        "# You can write up to 20GB to the current directory (/kaggle/working/) that gets preserved as output when you create a version using \"Save & Run All\"\n",
        "# You can also write temporary files to /kaggle/temp/, but they won't be saved outside of the current session"
      ],
      "metadata": {
        "_uuid": "8f2839f25d086af736a60e9eeb907d3b93b6e0e5",
        "_cell_guid": "b1076dfc-b9ad-4769-8c92-a6c4dae69d19",
        "trusted": true,
        "execution": {
          "iopub.status.busy": "2024-10-21T04:45:22.711054Z",
          "iopub.execute_input": "2024-10-21T04:45:22.711533Z",
          "iopub.status.idle": "2024-10-21T04:45:23.870541Z",
          "shell.execute_reply.started": "2024-10-21T04:45:22.711485Z",
          "shell.execute_reply": "2024-10-21T04:45:23.869144Z"
        },
        "id": "WDrsVz_ZKJV6",
        "outputId": "5060bda6-ffc5-454a-de4a-c82b48ccf391"
      },
      "outputs": [
        {
          "name": "stdout",
          "text": "/kaggle/input/gender-classification-dataset/gender_classification_v7.csv\n",
          "output_type": "stream"
        }
      ],
      "execution_count": null
    },
    {
      "cell_type": "code",
      "source": [
        "import numpy as np\n",
        "import pandas as pd"
      ],
      "metadata": {
        "trusted": true,
        "execution": {
          "iopub.status.busy": "2024-10-21T04:45:23.872792Z",
          "iopub.execute_input": "2024-10-21T04:45:23.873451Z",
          "iopub.status.idle": "2024-10-21T04:45:23.879236Z",
          "shell.execute_reply.started": "2024-10-21T04:45:23.873398Z",
          "shell.execute_reply": "2024-10-21T04:45:23.877807Z"
        },
        "id": "ad5uI_emKJV9"
      },
      "outputs": [],
      "execution_count": null
    },
    {
      "cell_type": "code",
      "source": [
        "data=pd.read_csv(\"/kaggle/input/gender-classification-dataset/gender_classification_v7.csv\")"
      ],
      "metadata": {
        "trusted": true,
        "execution": {
          "iopub.status.busy": "2024-10-21T04:45:23.880487Z",
          "iopub.execute_input": "2024-10-21T04:45:23.880837Z",
          "iopub.status.idle": "2024-10-21T04:45:23.927496Z",
          "shell.execute_reply.started": "2024-10-21T04:45:23.880794Z",
          "shell.execute_reply": "2024-10-21T04:45:23.926386Z"
        },
        "id": "JyYF9nNFKJV9"
      },
      "outputs": [],
      "execution_count": null
    },
    {
      "cell_type": "code",
      "source": [
        "data.head()"
      ],
      "metadata": {
        "trusted": true,
        "execution": {
          "iopub.status.busy": "2024-10-21T04:45:23.930718Z",
          "iopub.execute_input": "2024-10-21T04:45:23.931192Z",
          "iopub.status.idle": "2024-10-21T04:45:23.959713Z",
          "shell.execute_reply.started": "2024-10-21T04:45:23.931150Z",
          "shell.execute_reply": "2024-10-21T04:45:23.958400Z"
        },
        "id": "TIPZ3-vEKJV-",
        "outputId": "4df8bc6c-e368-4427-eb54-52e4ff47dadd"
      },
      "outputs": [
        {
          "execution_count": 4,
          "output_type": "execute_result",
          "data": {
            "text/plain": "   long_hair  forehead_width_cm  forehead_height_cm  nose_wide  nose_long  \\\n0          1               11.8                 6.1          1          0   \n1          0               14.0                 5.4          0          0   \n2          0               11.8                 6.3          1          1   \n3          0               14.4                 6.1          0          1   \n4          1               13.5                 5.9          0          0   \n\n   lips_thin  distance_nose_to_lip_long  gender  \n0          1                          1    Male  \n1          1                          0  Female  \n2          1                          1    Male  \n3          1                          1    Male  \n4          0                          0  Female  ",
            "text/html": "<div>\n<style scoped>\n    .dataframe tbody tr th:only-of-type {\n        vertical-align: middle;\n    }\n\n    .dataframe tbody tr th {\n        vertical-align: top;\n    }\n\n    .dataframe thead th {\n        text-align: right;\n    }\n</style>\n<table border=\"1\" class=\"dataframe\">\n  <thead>\n    <tr style=\"text-align: right;\">\n      <th></th>\n      <th>long_hair</th>\n      <th>forehead_width_cm</th>\n      <th>forehead_height_cm</th>\n      <th>nose_wide</th>\n      <th>nose_long</th>\n      <th>lips_thin</th>\n      <th>distance_nose_to_lip_long</th>\n      <th>gender</th>\n    </tr>\n  </thead>\n  <tbody>\n    <tr>\n      <th>0</th>\n      <td>1</td>\n      <td>11.8</td>\n      <td>6.1</td>\n      <td>1</td>\n      <td>0</td>\n      <td>1</td>\n      <td>1</td>\n      <td>Male</td>\n    </tr>\n    <tr>\n      <th>1</th>\n      <td>0</td>\n      <td>14.0</td>\n      <td>5.4</td>\n      <td>0</td>\n      <td>0</td>\n      <td>1</td>\n      <td>0</td>\n      <td>Female</td>\n    </tr>\n    <tr>\n      <th>2</th>\n      <td>0</td>\n      <td>11.8</td>\n      <td>6.3</td>\n      <td>1</td>\n      <td>1</td>\n      <td>1</td>\n      <td>1</td>\n      <td>Male</td>\n    </tr>\n    <tr>\n      <th>3</th>\n      <td>0</td>\n      <td>14.4</td>\n      <td>6.1</td>\n      <td>0</td>\n      <td>1</td>\n      <td>1</td>\n      <td>1</td>\n      <td>Male</td>\n    </tr>\n    <tr>\n      <th>4</th>\n      <td>1</td>\n      <td>13.5</td>\n      <td>5.9</td>\n      <td>0</td>\n      <td>0</td>\n      <td>0</td>\n      <td>0</td>\n      <td>Female</td>\n    </tr>\n  </tbody>\n</table>\n</div>"
          },
          "metadata": {}
        }
      ],
      "execution_count": null
    },
    {
      "cell_type": "code",
      "source": [
        "data.tail()"
      ],
      "metadata": {
        "trusted": true,
        "execution": {
          "iopub.status.busy": "2024-10-21T04:45:23.961586Z",
          "iopub.execute_input": "2024-10-21T04:45:23.962024Z",
          "iopub.status.idle": "2024-10-21T04:45:23.977590Z",
          "shell.execute_reply.started": "2024-10-21T04:45:23.961971Z",
          "shell.execute_reply": "2024-10-21T04:45:23.976450Z"
        },
        "id": "voT9YLceKJV-",
        "outputId": "bd280968-c23f-48a0-bb1e-370722f7073d"
      },
      "outputs": [
        {
          "execution_count": 5,
          "output_type": "execute_result",
          "data": {
            "text/plain": "      long_hair  forehead_width_cm  forehead_height_cm  nose_wide  nose_long  \\\n4996          1               13.6                 5.1          0          0   \n4997          1               11.9                 5.4          0          0   \n4998          1               12.9                 5.7          0          0   \n4999          1               13.2                 6.2          0          0   \n5000          1               15.4                 5.4          1          1   \n\n      lips_thin  distance_nose_to_lip_long  gender  \n4996          0                          0  Female  \n4997          0                          0  Female  \n4998          0                          0  Female  \n4999          0                          0  Female  \n5000          1                          1    Male  ",
            "text/html": "<div>\n<style scoped>\n    .dataframe tbody tr th:only-of-type {\n        vertical-align: middle;\n    }\n\n    .dataframe tbody tr th {\n        vertical-align: top;\n    }\n\n    .dataframe thead th {\n        text-align: right;\n    }\n</style>\n<table border=\"1\" class=\"dataframe\">\n  <thead>\n    <tr style=\"text-align: right;\">\n      <th></th>\n      <th>long_hair</th>\n      <th>forehead_width_cm</th>\n      <th>forehead_height_cm</th>\n      <th>nose_wide</th>\n      <th>nose_long</th>\n      <th>lips_thin</th>\n      <th>distance_nose_to_lip_long</th>\n      <th>gender</th>\n    </tr>\n  </thead>\n  <tbody>\n    <tr>\n      <th>4996</th>\n      <td>1</td>\n      <td>13.6</td>\n      <td>5.1</td>\n      <td>0</td>\n      <td>0</td>\n      <td>0</td>\n      <td>0</td>\n      <td>Female</td>\n    </tr>\n    <tr>\n      <th>4997</th>\n      <td>1</td>\n      <td>11.9</td>\n      <td>5.4</td>\n      <td>0</td>\n      <td>0</td>\n      <td>0</td>\n      <td>0</td>\n      <td>Female</td>\n    </tr>\n    <tr>\n      <th>4998</th>\n      <td>1</td>\n      <td>12.9</td>\n      <td>5.7</td>\n      <td>0</td>\n      <td>0</td>\n      <td>0</td>\n      <td>0</td>\n      <td>Female</td>\n    </tr>\n    <tr>\n      <th>4999</th>\n      <td>1</td>\n      <td>13.2</td>\n      <td>6.2</td>\n      <td>0</td>\n      <td>0</td>\n      <td>0</td>\n      <td>0</td>\n      <td>Female</td>\n    </tr>\n    <tr>\n      <th>5000</th>\n      <td>1</td>\n      <td>15.4</td>\n      <td>5.4</td>\n      <td>1</td>\n      <td>1</td>\n      <td>1</td>\n      <td>1</td>\n      <td>Male</td>\n    </tr>\n  </tbody>\n</table>\n</div>"
          },
          "metadata": {}
        }
      ],
      "execution_count": null
    },
    {
      "cell_type": "code",
      "source": [
        "data.info()"
      ],
      "metadata": {
        "trusted": true,
        "execution": {
          "iopub.status.busy": "2024-10-21T04:45:23.979025Z",
          "iopub.execute_input": "2024-10-21T04:45:23.979394Z",
          "iopub.status.idle": "2024-10-21T04:45:24.017297Z",
          "shell.execute_reply.started": "2024-10-21T04:45:23.979350Z",
          "shell.execute_reply": "2024-10-21T04:45:24.016069Z"
        },
        "id": "kkdUCWjfKJV-",
        "outputId": "24f9ed5f-3797-412a-c28f-48f8889965d9"
      },
      "outputs": [
        {
          "name": "stdout",
          "text": "<class 'pandas.core.frame.DataFrame'>\nRangeIndex: 5001 entries, 0 to 5000\nData columns (total 8 columns):\n #   Column                     Non-Null Count  Dtype  \n---  ------                     --------------  -----  \n 0   long_hair                  5001 non-null   int64  \n 1   forehead_width_cm          5001 non-null   float64\n 2   forehead_height_cm         5001 non-null   float64\n 3   nose_wide                  5001 non-null   int64  \n 4   nose_long                  5001 non-null   int64  \n 5   lips_thin                  5001 non-null   int64  \n 6   distance_nose_to_lip_long  5001 non-null   int64  \n 7   gender                     5001 non-null   object \ndtypes: float64(2), int64(5), object(1)\nmemory usage: 312.7+ KB\n",
          "output_type": "stream"
        }
      ],
      "execution_count": null
    },
    {
      "cell_type": "code",
      "source": [
        "data.corr()"
      ],
      "metadata": {
        "trusted": true,
        "execution": {
          "iopub.status.busy": "2024-10-21T04:45:24.018817Z",
          "iopub.execute_input": "2024-10-21T04:45:24.019668Z",
          "iopub.status.idle": "2024-10-21T04:45:25.632475Z",
          "shell.execute_reply.started": "2024-10-21T04:45:24.019615Z",
          "shell.execute_reply": "2024-10-21T04:45:25.629278Z"
        },
        "id": "34rDenU7KJV-",
        "outputId": "afebbb80-354d-490b-ed84-974dc16998d0"
      },
      "outputs": [
        {
          "traceback": [
            "\u001b[0;31m---------------------------------------------------------------------------\u001b[0m",
            "\u001b[0;31mValueError\u001b[0m                                Traceback (most recent call last)",
            "Cell \u001b[0;32mIn[7], line 1\u001b[0m\n\u001b[0;32m----> 1\u001b[0m \u001b[43mdata\u001b[49m\u001b[38;5;241;43m.\u001b[39;49m\u001b[43mcorr\u001b[49m\u001b[43m(\u001b[49m\u001b[43m)\u001b[49m\n",
            "File \u001b[0;32m/opt/conda/lib/python3.10/site-packages/pandas/core/frame.py:11049\u001b[0m, in \u001b[0;36mDataFrame.corr\u001b[0;34m(self, method, min_periods, numeric_only)\u001b[0m\n\u001b[1;32m  11047\u001b[0m cols \u001b[38;5;241m=\u001b[39m data\u001b[38;5;241m.\u001b[39mcolumns\n\u001b[1;32m  11048\u001b[0m idx \u001b[38;5;241m=\u001b[39m cols\u001b[38;5;241m.\u001b[39mcopy()\n\u001b[0;32m> 11049\u001b[0m mat \u001b[38;5;241m=\u001b[39m \u001b[43mdata\u001b[49m\u001b[38;5;241;43m.\u001b[39;49m\u001b[43mto_numpy\u001b[49m\u001b[43m(\u001b[49m\u001b[43mdtype\u001b[49m\u001b[38;5;241;43m=\u001b[39;49m\u001b[38;5;28;43mfloat\u001b[39;49m\u001b[43m,\u001b[49m\u001b[43m \u001b[49m\u001b[43mna_value\u001b[49m\u001b[38;5;241;43m=\u001b[39;49m\u001b[43mnp\u001b[49m\u001b[38;5;241;43m.\u001b[39;49m\u001b[43mnan\u001b[49m\u001b[43m,\u001b[49m\u001b[43m \u001b[49m\u001b[43mcopy\u001b[49m\u001b[38;5;241;43m=\u001b[39;49m\u001b[38;5;28;43;01mFalse\u001b[39;49;00m\u001b[43m)\u001b[49m\n\u001b[1;32m  11051\u001b[0m \u001b[38;5;28;01mif\u001b[39;00m method \u001b[38;5;241m==\u001b[39m \u001b[38;5;124m\"\u001b[39m\u001b[38;5;124mpearson\u001b[39m\u001b[38;5;124m\"\u001b[39m:\n\u001b[1;32m  11052\u001b[0m     correl \u001b[38;5;241m=\u001b[39m libalgos\u001b[38;5;241m.\u001b[39mnancorr(mat, minp\u001b[38;5;241m=\u001b[39mmin_periods)\n",
            "File \u001b[0;32m/opt/conda/lib/python3.10/site-packages/pandas/core/frame.py:1993\u001b[0m, in \u001b[0;36mDataFrame.to_numpy\u001b[0;34m(self, dtype, copy, na_value)\u001b[0m\n\u001b[1;32m   1991\u001b[0m \u001b[38;5;28;01mif\u001b[39;00m dtype \u001b[38;5;129;01mis\u001b[39;00m \u001b[38;5;129;01mnot\u001b[39;00m \u001b[38;5;28;01mNone\u001b[39;00m:\n\u001b[1;32m   1992\u001b[0m     dtype \u001b[38;5;241m=\u001b[39m np\u001b[38;5;241m.\u001b[39mdtype(dtype)\n\u001b[0;32m-> 1993\u001b[0m result \u001b[38;5;241m=\u001b[39m \u001b[38;5;28;43mself\u001b[39;49m\u001b[38;5;241;43m.\u001b[39;49m\u001b[43m_mgr\u001b[49m\u001b[38;5;241;43m.\u001b[39;49m\u001b[43mas_array\u001b[49m\u001b[43m(\u001b[49m\u001b[43mdtype\u001b[49m\u001b[38;5;241;43m=\u001b[39;49m\u001b[43mdtype\u001b[49m\u001b[43m,\u001b[49m\u001b[43m \u001b[49m\u001b[43mcopy\u001b[49m\u001b[38;5;241;43m=\u001b[39;49m\u001b[43mcopy\u001b[49m\u001b[43m,\u001b[49m\u001b[43m \u001b[49m\u001b[43mna_value\u001b[49m\u001b[38;5;241;43m=\u001b[39;49m\u001b[43mna_value\u001b[49m\u001b[43m)\u001b[49m\n\u001b[1;32m   1994\u001b[0m \u001b[38;5;28;01mif\u001b[39;00m result\u001b[38;5;241m.\u001b[39mdtype \u001b[38;5;129;01mis\u001b[39;00m \u001b[38;5;129;01mnot\u001b[39;00m dtype:\n\u001b[1;32m   1995\u001b[0m     result \u001b[38;5;241m=\u001b[39m np\u001b[38;5;241m.\u001b[39masarray(result, dtype\u001b[38;5;241m=\u001b[39mdtype)\n",
            "File \u001b[0;32m/opt/conda/lib/python3.10/site-packages/pandas/core/internals/managers.py:1694\u001b[0m, in \u001b[0;36mBlockManager.as_array\u001b[0;34m(self, dtype, copy, na_value)\u001b[0m\n\u001b[1;32m   1692\u001b[0m         arr\u001b[38;5;241m.\u001b[39mflags\u001b[38;5;241m.\u001b[39mwriteable \u001b[38;5;241m=\u001b[39m \u001b[38;5;28;01mFalse\u001b[39;00m\n\u001b[1;32m   1693\u001b[0m \u001b[38;5;28;01melse\u001b[39;00m:\n\u001b[0;32m-> 1694\u001b[0m     arr \u001b[38;5;241m=\u001b[39m \u001b[38;5;28;43mself\u001b[39;49m\u001b[38;5;241;43m.\u001b[39;49m\u001b[43m_interleave\u001b[49m\u001b[43m(\u001b[49m\u001b[43mdtype\u001b[49m\u001b[38;5;241;43m=\u001b[39;49m\u001b[43mdtype\u001b[49m\u001b[43m,\u001b[49m\u001b[43m \u001b[49m\u001b[43mna_value\u001b[49m\u001b[38;5;241;43m=\u001b[39;49m\u001b[43mna_value\u001b[49m\u001b[43m)\u001b[49m\n\u001b[1;32m   1695\u001b[0m     \u001b[38;5;66;03m# The underlying data was copied within _interleave, so no need\u001b[39;00m\n\u001b[1;32m   1696\u001b[0m     \u001b[38;5;66;03m# to further copy if copy=True or setting na_value\u001b[39;00m\n\u001b[1;32m   1698\u001b[0m \u001b[38;5;28;01mif\u001b[39;00m na_value \u001b[38;5;129;01mis\u001b[39;00m lib\u001b[38;5;241m.\u001b[39mno_default:\n",
            "File \u001b[0;32m/opt/conda/lib/python3.10/site-packages/pandas/core/internals/managers.py:1753\u001b[0m, in \u001b[0;36mBlockManager._interleave\u001b[0;34m(self, dtype, na_value)\u001b[0m\n\u001b[1;32m   1751\u001b[0m     \u001b[38;5;28;01melse\u001b[39;00m:\n\u001b[1;32m   1752\u001b[0m         arr \u001b[38;5;241m=\u001b[39m blk\u001b[38;5;241m.\u001b[39mget_values(dtype)\n\u001b[0;32m-> 1753\u001b[0m     \u001b[43mresult\u001b[49m\u001b[43m[\u001b[49m\u001b[43mrl\u001b[49m\u001b[38;5;241;43m.\u001b[39;49m\u001b[43mindexer\u001b[49m\u001b[43m]\u001b[49m \u001b[38;5;241m=\u001b[39m arr\n\u001b[1;32m   1754\u001b[0m     itemmask[rl\u001b[38;5;241m.\u001b[39mindexer] \u001b[38;5;241m=\u001b[39m \u001b[38;5;241m1\u001b[39m\n\u001b[1;32m   1756\u001b[0m \u001b[38;5;28;01mif\u001b[39;00m \u001b[38;5;129;01mnot\u001b[39;00m itemmask\u001b[38;5;241m.\u001b[39mall():\n",
            "\u001b[0;31mValueError\u001b[0m: could not convert string to float: 'Male'"
          ],
          "ename": "ValueError",
          "evalue": "could not convert string to float: 'Male'",
          "output_type": "error"
        }
      ],
      "execution_count": null
    },
    {
      "cell_type": "code",
      "source": [
        "data.columns"
      ],
      "metadata": {
        "trusted": true,
        "execution": {
          "iopub.status.busy": "2024-10-21T04:50:48.709183Z",
          "iopub.execute_input": "2024-10-21T04:50:48.709816Z",
          "iopub.status.idle": "2024-10-21T04:50:48.719464Z",
          "shell.execute_reply.started": "2024-10-21T04:50:48.709759Z",
          "shell.execute_reply": "2024-10-21T04:50:48.718084Z"
        },
        "id": "_64nQuatKJV_",
        "outputId": "1e5f4b72-6537-4ccf-aff6-bac48878ab28"
      },
      "outputs": [
        {
          "execution_count": 8,
          "output_type": "execute_result",
          "data": {
            "text/plain": "Index(['long_hair', 'forehead_width_cm', 'forehead_height_cm', 'nose_wide',\n       'nose_long', 'lips_thin', 'distance_nose_to_lip_long', 'gender'],\n      dtype='object')"
          },
          "metadata": {}
        }
      ],
      "execution_count": null
    },
    {
      "cell_type": "code",
      "source": [
        "data['gender'].unique()"
      ],
      "metadata": {
        "trusted": true,
        "execution": {
          "iopub.status.busy": "2024-10-21T04:50:52.720263Z",
          "iopub.execute_input": "2024-10-21T04:50:52.720721Z",
          "iopub.status.idle": "2024-10-21T04:50:52.729209Z",
          "shell.execute_reply.started": "2024-10-21T04:50:52.720679Z",
          "shell.execute_reply": "2024-10-21T04:50:52.727998Z"
        },
        "id": "eSVTmJIfKJV_",
        "outputId": "95dab136-6e34-4f06-e6e1-db2cd5de4802"
      },
      "outputs": [
        {
          "execution_count": 9,
          "output_type": "execute_result",
          "data": {
            "text/plain": "array(['Male', 'Female'], dtype=object)"
          },
          "metadata": {}
        }
      ],
      "execution_count": null
    },
    {
      "cell_type": "code",
      "source": [
        "data['gender']=data['gender'].map({'Male':1,'Female':2})"
      ],
      "metadata": {
        "trusted": true,
        "execution": {
          "iopub.status.busy": "2024-10-21T04:52:00.581510Z",
          "iopub.execute_input": "2024-10-21T04:52:00.581973Z",
          "iopub.status.idle": "2024-10-21T04:52:00.589690Z",
          "shell.execute_reply.started": "2024-10-21T04:52:00.581930Z",
          "shell.execute_reply": "2024-10-21T04:52:00.588380Z"
        },
        "id": "s08wi3L4KJV_"
      },
      "outputs": [],
      "execution_count": null
    },
    {
      "cell_type": "code",
      "source": [
        "data.corr()"
      ],
      "metadata": {
        "trusted": true,
        "execution": {
          "iopub.status.busy": "2024-10-21T04:52:02.242346Z",
          "iopub.execute_input": "2024-10-21T04:52:02.242894Z",
          "iopub.status.idle": "2024-10-21T04:52:02.267834Z",
          "shell.execute_reply.started": "2024-10-21T04:52:02.242843Z",
          "shell.execute_reply": "2024-10-21T04:52:02.266525Z"
        },
        "id": "yC3C9ncoKJV_",
        "outputId": "426b6393-9b22-4eee-8dbc-e45a93c35203"
      },
      "outputs": [
        {
          "execution_count": 11,
          "output_type": "execute_result",
          "data": {
            "text/plain": "                           long_hair  forehead_width_cm  forehead_height_cm  \\\nlong_hair                   1.000000          -0.006530           -0.017233   \nforehead_width_cm          -0.006530           1.000000            0.088596   \nforehead_height_cm         -0.017233           0.088596            1.000000   \nnose_wide                   0.001216           0.251648            0.211655   \nnose_long                   0.014432           0.257368            0.194120   \nlips_thin                   0.011287           0.258564            0.205441   \ndistance_nose_to_lip_long  -0.025794           0.251328            0.215292   \ngender                      0.010767          -0.334125           -0.277190   \n\n                           nose_wide  nose_long  lips_thin  \\\nlong_hair                   0.001216   0.014432   0.011287   \nforehead_width_cm           0.251648   0.257368   0.258564   \nforehead_height_cm          0.211655   0.194120   0.205441   \nnose_wide                   1.000000   0.565192   0.557615   \nnose_long                   0.565192   1.000000   0.561229   \nlips_thin                   0.557615   0.561229   1.000000   \ndistance_nose_to_lip_long   0.569303   0.559794   0.565312   \ngender                     -0.758502  -0.744147  -0.743319   \n\n                           distance_nose_to_lip_long    gender  \nlong_hair                                  -0.025794  0.010767  \nforehead_width_cm                           0.251328 -0.334125  \nforehead_height_cm                          0.215292 -0.277190  \nnose_wide                                   0.569303 -0.758502  \nnose_long                                   0.559794 -0.744147  \nlips_thin                                   0.565312 -0.743319  \ndistance_nose_to_lip_long                   1.000000 -0.754850  \ngender                                     -0.754850  1.000000  ",
            "text/html": "<div>\n<style scoped>\n    .dataframe tbody tr th:only-of-type {\n        vertical-align: middle;\n    }\n\n    .dataframe tbody tr th {\n        vertical-align: top;\n    }\n\n    .dataframe thead th {\n        text-align: right;\n    }\n</style>\n<table border=\"1\" class=\"dataframe\">\n  <thead>\n    <tr style=\"text-align: right;\">\n      <th></th>\n      <th>long_hair</th>\n      <th>forehead_width_cm</th>\n      <th>forehead_height_cm</th>\n      <th>nose_wide</th>\n      <th>nose_long</th>\n      <th>lips_thin</th>\n      <th>distance_nose_to_lip_long</th>\n      <th>gender</th>\n    </tr>\n  </thead>\n  <tbody>\n    <tr>\n      <th>long_hair</th>\n      <td>1.000000</td>\n      <td>-0.006530</td>\n      <td>-0.017233</td>\n      <td>0.001216</td>\n      <td>0.014432</td>\n      <td>0.011287</td>\n      <td>-0.025794</td>\n      <td>0.010767</td>\n    </tr>\n    <tr>\n      <th>forehead_width_cm</th>\n      <td>-0.006530</td>\n      <td>1.000000</td>\n      <td>0.088596</td>\n      <td>0.251648</td>\n      <td>0.257368</td>\n      <td>0.258564</td>\n      <td>0.251328</td>\n      <td>-0.334125</td>\n    </tr>\n    <tr>\n      <th>forehead_height_cm</th>\n      <td>-0.017233</td>\n      <td>0.088596</td>\n      <td>1.000000</td>\n      <td>0.211655</td>\n      <td>0.194120</td>\n      <td>0.205441</td>\n      <td>0.215292</td>\n      <td>-0.277190</td>\n    </tr>\n    <tr>\n      <th>nose_wide</th>\n      <td>0.001216</td>\n      <td>0.251648</td>\n      <td>0.211655</td>\n      <td>1.000000</td>\n      <td>0.565192</td>\n      <td>0.557615</td>\n      <td>0.569303</td>\n      <td>-0.758502</td>\n    </tr>\n    <tr>\n      <th>nose_long</th>\n      <td>0.014432</td>\n      <td>0.257368</td>\n      <td>0.194120</td>\n      <td>0.565192</td>\n      <td>1.000000</td>\n      <td>0.561229</td>\n      <td>0.559794</td>\n      <td>-0.744147</td>\n    </tr>\n    <tr>\n      <th>lips_thin</th>\n      <td>0.011287</td>\n      <td>0.258564</td>\n      <td>0.205441</td>\n      <td>0.557615</td>\n      <td>0.561229</td>\n      <td>1.000000</td>\n      <td>0.565312</td>\n      <td>-0.743319</td>\n    </tr>\n    <tr>\n      <th>distance_nose_to_lip_long</th>\n      <td>-0.025794</td>\n      <td>0.251328</td>\n      <td>0.215292</td>\n      <td>0.569303</td>\n      <td>0.559794</td>\n      <td>0.565312</td>\n      <td>1.000000</td>\n      <td>-0.754850</td>\n    </tr>\n    <tr>\n      <th>gender</th>\n      <td>0.010767</td>\n      <td>-0.334125</td>\n      <td>-0.277190</td>\n      <td>-0.758502</td>\n      <td>-0.744147</td>\n      <td>-0.743319</td>\n      <td>-0.754850</td>\n      <td>1.000000</td>\n    </tr>\n  </tbody>\n</table>\n</div>"
          },
          "metadata": {}
        }
      ],
      "execution_count": null
    },
    {
      "cell_type": "code",
      "source": [
        "data.head()"
      ],
      "metadata": {
        "trusted": true,
        "execution": {
          "iopub.status.busy": "2024-10-21T04:45:25.642485Z",
          "iopub.status.idle": "2024-10-21T04:45:25.643028Z",
          "shell.execute_reply.started": "2024-10-21T04:45:25.642743Z",
          "shell.execute_reply": "2024-10-21T04:45:25.642770Z"
        },
        "id": "HXh7Dp9CKJWA"
      },
      "outputs": [],
      "execution_count": null
    },
    {
      "cell_type": "code",
      "source": [
        "data.describe()"
      ],
      "metadata": {
        "trusted": true,
        "execution": {
          "iopub.status.busy": "2024-10-21T04:52:52.909826Z",
          "iopub.execute_input": "2024-10-21T04:52:52.910353Z",
          "iopub.status.idle": "2024-10-21T04:52:52.950282Z",
          "shell.execute_reply.started": "2024-10-21T04:52:52.910291Z",
          "shell.execute_reply": "2024-10-21T04:52:52.949091Z"
        },
        "id": "RaGF-nBdKJWA",
        "outputId": "4fcdc073-e9e7-4dbd-c09e-797ed4062af8"
      },
      "outputs": [
        {
          "execution_count": 12,
          "output_type": "execute_result",
          "data": {
            "text/plain": "         long_hair  forehead_width_cm  forehead_height_cm    nose_wide  \\\ncount  5001.000000        5001.000000         5001.000000  5001.000000   \nmean      0.869626          13.181484            5.946311     0.493901   \nstd       0.336748           1.107128            0.541268     0.500013   \nmin       0.000000          11.400000            5.100000     0.000000   \n25%       1.000000          12.200000            5.500000     0.000000   \n50%       1.000000          13.100000            5.900000     0.000000   \n75%       1.000000          14.000000            6.400000     1.000000   \nmax       1.000000          15.500000            7.100000     1.000000   \n\n         nose_long    lips_thin  distance_nose_to_lip_long      gender  \ncount  5001.000000  5001.000000                5001.000000  5001.00000  \nmean      0.507898     0.493101                   0.498900     1.50010  \nstd       0.499988     0.500002                   0.500049     0.50005  \nmin       0.000000     0.000000                   0.000000     1.00000  \n25%       0.000000     0.000000                   0.000000     1.00000  \n50%       1.000000     0.000000                   0.000000     2.00000  \n75%       1.000000     1.000000                   1.000000     2.00000  \nmax       1.000000     1.000000                   1.000000     2.00000  ",
            "text/html": "<div>\n<style scoped>\n    .dataframe tbody tr th:only-of-type {\n        vertical-align: middle;\n    }\n\n    .dataframe tbody tr th {\n        vertical-align: top;\n    }\n\n    .dataframe thead th {\n        text-align: right;\n    }\n</style>\n<table border=\"1\" class=\"dataframe\">\n  <thead>\n    <tr style=\"text-align: right;\">\n      <th></th>\n      <th>long_hair</th>\n      <th>forehead_width_cm</th>\n      <th>forehead_height_cm</th>\n      <th>nose_wide</th>\n      <th>nose_long</th>\n      <th>lips_thin</th>\n      <th>distance_nose_to_lip_long</th>\n      <th>gender</th>\n    </tr>\n  </thead>\n  <tbody>\n    <tr>\n      <th>count</th>\n      <td>5001.000000</td>\n      <td>5001.000000</td>\n      <td>5001.000000</td>\n      <td>5001.000000</td>\n      <td>5001.000000</td>\n      <td>5001.000000</td>\n      <td>5001.000000</td>\n      <td>5001.00000</td>\n    </tr>\n    <tr>\n      <th>mean</th>\n      <td>0.869626</td>\n      <td>13.181484</td>\n      <td>5.946311</td>\n      <td>0.493901</td>\n      <td>0.507898</td>\n      <td>0.493101</td>\n      <td>0.498900</td>\n      <td>1.50010</td>\n    </tr>\n    <tr>\n      <th>std</th>\n      <td>0.336748</td>\n      <td>1.107128</td>\n      <td>0.541268</td>\n      <td>0.500013</td>\n      <td>0.499988</td>\n      <td>0.500002</td>\n      <td>0.500049</td>\n      <td>0.50005</td>\n    </tr>\n    <tr>\n      <th>min</th>\n      <td>0.000000</td>\n      <td>11.400000</td>\n      <td>5.100000</td>\n      <td>0.000000</td>\n      <td>0.000000</td>\n      <td>0.000000</td>\n      <td>0.000000</td>\n      <td>1.00000</td>\n    </tr>\n    <tr>\n      <th>25%</th>\n      <td>1.000000</td>\n      <td>12.200000</td>\n      <td>5.500000</td>\n      <td>0.000000</td>\n      <td>0.000000</td>\n      <td>0.000000</td>\n      <td>0.000000</td>\n      <td>1.00000</td>\n    </tr>\n    <tr>\n      <th>50%</th>\n      <td>1.000000</td>\n      <td>13.100000</td>\n      <td>5.900000</td>\n      <td>0.000000</td>\n      <td>1.000000</td>\n      <td>0.000000</td>\n      <td>0.000000</td>\n      <td>2.00000</td>\n    </tr>\n    <tr>\n      <th>75%</th>\n      <td>1.000000</td>\n      <td>14.000000</td>\n      <td>6.400000</td>\n      <td>1.000000</td>\n      <td>1.000000</td>\n      <td>1.000000</td>\n      <td>1.000000</td>\n      <td>2.00000</td>\n    </tr>\n    <tr>\n      <th>max</th>\n      <td>1.000000</td>\n      <td>15.500000</td>\n      <td>7.100000</td>\n      <td>1.000000</td>\n      <td>1.000000</td>\n      <td>1.000000</td>\n      <td>1.000000</td>\n      <td>2.00000</td>\n    </tr>\n  </tbody>\n</table>\n</div>"
          },
          "metadata": {}
        }
      ],
      "execution_count": null
    },
    {
      "cell_type": "code",
      "source": [
        "data.isna().sum()"
      ],
      "metadata": {
        "trusted": true,
        "execution": {
          "iopub.status.busy": "2024-10-21T04:54:24.418416Z",
          "iopub.execute_input": "2024-10-21T04:54:24.418875Z",
          "iopub.status.idle": "2024-10-21T04:54:24.429932Z",
          "shell.execute_reply.started": "2024-10-21T04:54:24.418833Z",
          "shell.execute_reply": "2024-10-21T04:54:24.428642Z"
        },
        "id": "o9xo_QvoKJWA",
        "outputId": "ed60c252-7822-4f73-ebbc-5e21781bd67c"
      },
      "outputs": [
        {
          "execution_count": 13,
          "output_type": "execute_result",
          "data": {
            "text/plain": "long_hair                    0\nforehead_width_cm            0\nforehead_height_cm           0\nnose_wide                    0\nnose_long                    0\nlips_thin                    0\ndistance_nose_to_lip_long    0\ngender                       0\ndtype: int64"
          },
          "metadata": {}
        }
      ],
      "execution_count": null
    },
    {
      "cell_type": "code",
      "source": [
        "data.isnull().sum()"
      ],
      "metadata": {
        "trusted": true,
        "execution": {
          "iopub.status.busy": "2024-10-21T04:54:25.531437Z",
          "iopub.execute_input": "2024-10-21T04:54:25.531875Z",
          "iopub.status.idle": "2024-10-21T04:54:25.541033Z",
          "shell.execute_reply.started": "2024-10-21T04:54:25.531827Z",
          "shell.execute_reply": "2024-10-21T04:54:25.539996Z"
        },
        "id": "Os5hbJwSKJWA",
        "outputId": "9851c6f7-11c5-4446-fc41-3b214a150dc0"
      },
      "outputs": [
        {
          "execution_count": 14,
          "output_type": "execute_result",
          "data": {
            "text/plain": "long_hair                    0\nforehead_width_cm            0\nforehead_height_cm           0\nnose_wide                    0\nnose_long                    0\nlips_thin                    0\ndistance_nose_to_lip_long    0\ngender                       0\ndtype: int64"
          },
          "metadata": {}
        }
      ],
      "execution_count": null
    },
    {
      "cell_type": "code",
      "source": [
        "import seaborn as sns\n",
        "sns.heatmap(data.corr(),cmap=\"Greens\")"
      ],
      "metadata": {
        "trusted": true,
        "execution": {
          "iopub.status.busy": "2024-10-21T04:54:32.552379Z",
          "iopub.execute_input": "2024-10-21T04:54:32.553601Z",
          "iopub.status.idle": "2024-10-21T04:54:34.034154Z",
          "shell.execute_reply.started": "2024-10-21T04:54:32.553537Z",
          "shell.execute_reply": "2024-10-21T04:54:34.033036Z"
        },
        "id": "0xKqafFnKJWA",
        "outputId": "e44bd047-0bb9-4983-aca4-db824f483774"
      },
      "outputs": [
        {
          "execution_count": 15,
          "output_type": "execute_result",
          "data": {
            "text/plain": "<Axes: >"
          },
          "metadata": {}
        },
        {
          "output_type": "display_data",
          "data": {
            "text/plain": "<Figure size 640x480 with 2 Axes>",
            "image/png": "[encoded data removed]"
          },
          "metadata": {}
        }
      ],
      "execution_count": null
    },
    {
      "cell_type": "code",
      "source": [
        "data.columns"
      ],
      "metadata": {
        "trusted": true,
        "execution": {
          "iopub.status.busy": "2024-10-21T04:45:25.654355Z",
          "iopub.status.idle": "2024-10-21T04:45:25.654769Z",
          "shell.execute_reply.started": "2024-10-21T04:45:25.654562Z",
          "shell.execute_reply": "2024-10-21T04:45:25.654583Z"
        },
        "id": "vVCs_YFlKJWA"
      },
      "outputs": [],
      "execution_count": null
    },
    {
      "cell_type": "code",
      "source": [
        "sns.boxplot(data)"
      ],
      "metadata": {
        "trusted": true,
        "execution": {
          "iopub.status.busy": "2024-10-21T04:55:03.865015Z",
          "iopub.execute_input": "2024-10-21T04:55:03.865799Z",
          "iopub.status.idle": "2024-10-21T04:55:04.210817Z",
          "shell.execute_reply.started": "2024-10-21T04:55:03.865737Z",
          "shell.execute_reply": "2024-10-21T04:55:04.209515Z"
        },
        "id": "CiUInp1qKJWA",
        "outputId": "4cd93153-d5cd-45bb-d75c-953e5ea6c690"
      },
      "outputs": [
        {
          "execution_count": 16,
          "output_type": "execute_result",
          "data": {
            "text/plain": "<Axes: >"
          },
          "metadata": {}
        },
        {
          "output_type": "display_data",
          "data": {
            "text/plain": "<Figure size 640x480 with 1 Axes>",
            "image/png": "[encoded data removed]"
          },
          "metadata": {}
        }
      ],
      "execution_count": null
    },
    {
      "cell_type": "code",
      "source": [
        "y=data['gender']"
      ],
      "metadata": {
        "trusted": true,
        "execution": {
          "iopub.status.busy": "2024-10-21T04:55:54.578926Z",
          "iopub.execute_input": "2024-10-21T04:55:54.579427Z",
          "iopub.status.idle": "2024-10-21T04:55:54.585471Z",
          "shell.execute_reply.started": "2024-10-21T04:55:54.579384Z",
          "shell.execute_reply": "2024-10-21T04:55:54.584032Z"
        },
        "id": "Xm1iUBT0KJWA"
      },
      "outputs": [],
      "execution_count": null
    },
    {
      "cell_type": "code",
      "source": [
        "data.drop('gender',axis=1,inplace=True)"
      ],
      "metadata": {
        "trusted": true,
        "execution": {
          "iopub.status.busy": "2024-10-21T04:55:54.916720Z",
          "iopub.execute_input": "2024-10-21T04:55:54.917175Z",
          "iopub.status.idle": "2024-10-21T04:55:54.924483Z",
          "shell.execute_reply.started": "2024-10-21T04:55:54.917129Z",
          "shell.execute_reply": "2024-10-21T04:55:54.923138Z"
        },
        "id": "8m1xxZ54KJWA"
      },
      "outputs": [],
      "execution_count": null
    },
    {
      "cell_type": "code",
      "source": [
        "x=data"
      ],
      "metadata": {
        "trusted": true,
        "execution": {
          "iopub.status.busy": "2024-10-21T04:55:55.222206Z",
          "iopub.execute_input": "2024-10-21T04:55:55.223236Z",
          "iopub.status.idle": "2024-10-21T04:55:55.227985Z",
          "shell.execute_reply.started": "2024-10-21T04:55:55.223188Z",
          "shell.execute_reply": "2024-10-21T04:55:55.226696Z"
        },
        "id": "MI2ErDsiKJWA"
      },
      "outputs": [],
      "execution_count": null
    },
    {
      "cell_type": "code",
      "source": [
        "from sklearn.model_selection import train_test_split"
      ],
      "metadata": {
        "trusted": true,
        "execution": {
          "iopub.status.busy": "2024-10-21T04:56:06.254084Z",
          "iopub.execute_input": "2024-10-21T04:56:06.254618Z",
          "iopub.status.idle": "2024-10-21T04:56:06.451548Z",
          "shell.execute_reply.started": "2024-10-21T04:56:06.254572Z",
          "shell.execute_reply": "2024-10-21T04:56:06.450347Z"
        },
        "id": "RINsyASkKJWB"
      },
      "outputs": [],
      "execution_count": null
    },
    {
      "cell_type": "code",
      "source": [
        "X_train,X_test,Y_train,Y_test = train_test_split(x,y,test_size=0.2,random_state=42)"
      ],
      "metadata": {
        "trusted": true,
        "execution": {
          "iopub.status.busy": "2024-10-21T04:56:07.030314Z",
          "iopub.execute_input": "2024-10-21T04:56:07.030852Z",
          "iopub.status.idle": "2024-10-21T04:56:07.042852Z",
          "shell.execute_reply.started": "2024-10-21T04:56:07.030806Z",
          "shell.execute_reply": "2024-10-21T04:56:07.041428Z"
        },
        "id": "Ie4K1aD4KJWB"
      },
      "outputs": [],
      "execution_count": null
    },
    {
      "cell_type": "code",
      "source": [
        "from sklearn.linear_model import LogisticRegression"
      ],
      "metadata": {
        "trusted": true,
        "execution": {
          "iopub.status.busy": "2024-10-21T04:57:26.560145Z",
          "iopub.execute_input": "2024-10-21T04:57:26.561626Z",
          "iopub.status.idle": "2024-10-21T04:57:26.593633Z",
          "shell.execute_reply.started": "2024-10-21T04:57:26.561572Z",
          "shell.execute_reply": "2024-10-21T04:57:26.592360Z"
        },
        "id": "tA519W4HKJWB"
      },
      "outputs": [],
      "execution_count": null
    },
    {
      "cell_type": "code",
      "source": [
        "model = LogisticRegression()"
      ],
      "metadata": {
        "trusted": true,
        "execution": {
          "iopub.status.busy": "2024-10-21T04:57:34.292253Z",
          "iopub.execute_input": "2024-10-21T04:57:34.292732Z",
          "iopub.status.idle": "2024-10-21T04:57:34.298412Z",
          "shell.execute_reply.started": "2024-10-21T04:57:34.292687Z",
          "shell.execute_reply": "2024-10-21T04:57:34.297048Z"
        },
        "id": "QMmWPTF8KJWB"
      },
      "outputs": [],
      "execution_count": null
    },
    {
      "cell_type": "code",
      "source": [
        "model.fit(X_train,Y_train)"
      ],
      "metadata": {
        "trusted": true,
        "execution": {
          "iopub.status.busy": "2024-10-21T04:58:38.020187Z",
          "iopub.execute_input": "2024-10-21T04:58:38.020741Z",
          "iopub.status.idle": "2024-10-21T04:58:38.103151Z",
          "shell.execute_reply.started": "2024-10-21T04:58:38.020684Z",
          "shell.execute_reply": "2024-10-21T04:58:38.101443Z"
        },
        "id": "NEd6E-zxKJWB",
        "outputId": "4cf8c698-ac39-4556-bd9c-3c6926f0259d"
      },
      "outputs": [
        {
          "execution_count": 24,
          "output_type": "execute_result",
          "data": {
            "text/plain": "LogisticRegression()",
            "text/html": "<style>#sk-container-id-1 {color: black;background-color: white;}#sk-container-id-1 pre{padding: 0;}#sk-container-id-1 div.sk-toggleable {background-color: white;}#sk-container-id-1 label.sk-toggleable__label {cursor: pointer;display: block;width: 100%;margin-bottom: 0;padding: 0.3em;box-sizing: border-box;text-align: center;}#sk-container-id-1 label.sk-toggleable__label-arrow:before {content: \"▸\";float: left;margin-right: 0.25em;color: #696969;}#sk-container-id-1 label.sk-toggleable__label-arrow:hover:before {color: black;}#sk-container-id-1 div.sk-estimator:hover label.sk-toggleable__label-arrow:before {color: black;}#sk-container-id-1 div.sk-toggleable__content {max-height: 0;max-width: 0;overflow: hidden;text-align: left;background-color: #f0f8ff;}#sk-container-id-1 div.sk-toggleable__content pre {margin: 0.2em;color: black;border-radius: 0.25em;background-color: #f0f8ff;}#sk-container-id-1 input.sk-toggleable__control:checked~div.sk-toggleable__content {max-height: 200px;max-width: 100%;overflow: auto;}#sk-container-id-1 input.sk-toggleable__control:checked~label.sk-toggleable__label-arrow:before {content: \"▾\";}#sk-container-id-1 div.sk-estimator input.sk-toggleable__control:checked~label.sk-toggleable__label {background-color: #d4ebff;}#sk-container-id-1 div.sk-label input.sk-toggleable__control:checked~label.sk-toggleable__label {background-color: #d4ebff;}#sk-container-id-1 input.sk-hidden--visually {border: 0;clip: rect(1px 1px 1px 1px);clip: rect(1px, 1px, 1px, 1px);height: 1px;margin: -1px;overflow: hidden;padding: 0;position: absolute;width: 1px;}#sk-container-id-1 div.sk-estimator {font-family: monospace;background-color: #f0f8ff;border: 1px dotted black;border-radius: 0.25em;box-sizing: border-box;margin-bottom: 0.5em;}#sk-container-id-1 div.sk-estimator:hover {background-color: #d4ebff;}#sk-container-id-1 div.sk-parallel-item::after {content: \"\";width: 100%;border-bottom: 1px solid gray;flex-grow: 1;}#sk-container-id-1 div.sk-label:hover label.sk-toggleable__label {background-color: #d4ebff;}#sk-container-id-1 div.sk-serial::before {content: \"\";position: absolute;border-left: 1px solid gray;box-sizing: border-box;top: 0;bottom: 0;left: 50%;z-index: 0;}#sk-container-id-1 div.sk-serial {display: flex;flex-direction: column;align-items: center;background-color: white;padding-right: 0.2em;padding-left: 0.2em;position: relative;}#sk-container-id-1 div.sk-item {position: relative;z-index: 1;}#sk-container-id-1 div.sk-parallel {display: flex;align-items: stretch;justify-content: center;background-color: white;position: relative;}#sk-container-id-1 div.sk-item::before, #sk-container-id-1 div.sk-parallel-item::before {content: \"\";position: absolute;border-left: 1px solid gray;box-sizing: border-box;top: 0;bottom: 0;left: 50%;z-index: -1;}#sk-container-id-1 div.sk-parallel-item {display: flex;flex-direction: column;z-index: 1;position: relative;background-color: white;}#sk-container-id-1 div.sk-parallel-item:first-child::after {align-self: flex-end;width: 50%;}#sk-container-id-1 div.sk-parallel-item:last-child::after {align-self: flex-start;width: 50%;}#sk-container-id-1 div.sk-parallel-item:only-child::after {width: 0;}#sk-container-id-1 div.sk-dashed-wrapped {border: 1px dashed gray;margin: 0 0.4em 0.5em 0.4em;box-sizing: border-box;padding-bottom: 0.4em;background-color: white;}#sk-container-id-1 div.sk-label label {font-family: monospace;font-weight: bold;display: inline-block;line-height: 1.2em;}#sk-container-id-1 div.sk-label-container {text-align: center;}#sk-container-id-1 div.sk-container {/* jupyter's `normalize.less` sets `[hidden] { display: none; }` but bootstrap.min.css set `[hidden] { display: none !important; }` so we also need the `!important` here to be able to override the default hidden behavior on the sphinx rendered scikit-learn.org. See: https://github.com/scikit-learn/scikit-learn/issues/21755 */display: inline-block !important;position: relative;}#sk-container-id-1 div.sk-text-repr-fallback {display: none;}</style><div id=\"sk-container-id-1\" class=\"sk-top-container\"><div class=\"sk-text-repr-fallback\"><pre>LogisticRegression()</pre><b>In a Jupyter environment, please rerun this cell to show the HTML representation or trust the notebook. <br />On GitHub, the HTML representation is unable to render, please try loading this page with nbviewer.org.</b></div><div class=\"sk-container\" hidden><div class=\"sk-item\"><div class=\"sk-estimator sk-toggleable\"><input class=\"sk-toggleable__control sk-hidden--visually\" id=\"sk-estimator-id-1\" type=\"checkbox\" checked><label for=\"sk-estimator-id-1\" class=\"sk-toggleable__label sk-toggleable__label-arrow\">LogisticRegression</label><div class=\"sk-toggleable__content\"><pre>LogisticRegression()</pre></div></div></div></div></div>"
          },
          "metadata": {}
        }
      ],
      "execution_count": null
    },
    {
      "cell_type": "code",
      "source": [
        "y_pred = model.predict(X_test)"
      ],
      "metadata": {
        "trusted": true,
        "execution": {
          "iopub.status.busy": "2024-10-21T05:13:23.257157Z",
          "iopub.execute_input": "2024-10-21T05:13:23.257717Z",
          "iopub.status.idle": "2024-10-21T05:13:23.266219Z",
          "shell.execute_reply.started": "2024-10-21T05:13:23.257673Z",
          "shell.execute_reply": "2024-10-21T05:13:23.264753Z"
        },
        "id": "ZNtlPBjHKJWB"
      },
      "outputs": [],
      "execution_count": null
    },
    {
      "cell_type": "code",
      "source": [
        "from sklearn.metrics import accuracy_score,confusion_matrix,precision_score,recall_score,f1_score"
      ],
      "metadata": {
        "trusted": true,
        "execution": {
          "iopub.status.busy": "2024-10-21T05:14:23.618066Z",
          "iopub.execute_input": "2024-10-21T05:14:23.619096Z",
          "iopub.status.idle": "2024-10-21T05:14:23.625147Z",
          "shell.execute_reply.started": "2024-10-21T05:14:23.619047Z",
          "shell.execute_reply": "2024-10-21T05:14:23.623655Z"
        },
        "id": "m40_amD9KJWB"
      },
      "outputs": [],
      "execution_count": null
    },
    {
      "cell_type": "code",
      "source": [
        "print(\"Accuracy: \",accuracy_score(Y_test,y_pred))"
      ],
      "metadata": {
        "trusted": true,
        "execution": {
          "iopub.status.busy": "2024-10-21T05:17:41.111601Z",
          "iopub.execute_input": "2024-10-21T05:17:41.112886Z",
          "iopub.status.idle": "2024-10-21T05:17:41.122317Z",
          "shell.execute_reply.started": "2024-10-21T05:17:41.112824Z",
          "shell.execute_reply": "2024-10-21T05:17:41.120844Z"
        },
        "id": "GGwgmI4bKJWB",
        "outputId": "34451add-08b0-4f8d-a2c5-5efd28a1548d"
      },
      "outputs": [
        {
          "name": "stdout",
          "text": "Accuracy:  0.9600399600399601\n",
          "output_type": "stream"
        }
      ],
      "execution_count": null
    },
    {
      "cell_type": "code",
      "source": [
        "confusion_matrix(Y_test,y_pred)"
      ],
      "metadata": {
        "trusted": true,
        "execution": {
          "iopub.status.busy": "2024-10-21T05:20:32.627662Z",
          "iopub.execute_input": "2024-10-21T05:20:32.628128Z",
          "iopub.status.idle": "2024-10-21T05:20:32.640534Z",
          "shell.execute_reply.started": "2024-10-21T05:20:32.628088Z",
          "shell.execute_reply": "2024-10-21T05:20:32.639391Z"
        },
        "id": "ZvxOfH30KJWB",
        "outputId": "bedc6c67-8808-4d99-d3f8-95c9a5d32774"
      },
      "outputs": [
        {
          "execution_count": 28,
          "output_type": "execute_result",
          "data": {
            "text/plain": "array([[476,  23],\n       [ 17, 485]])"
          },
          "metadata": {}
        }
      ],
      "execution_count": null
    },
    {
      "cell_type": "code",
      "source": [
        "precision_score(Y_test,y_pred)"
      ],
      "metadata": {
        "trusted": true,
        "execution": {
          "iopub.status.busy": "2024-10-21T05:23:16.789510Z",
          "iopub.execute_input": "2024-10-21T05:23:16.790008Z",
          "iopub.status.idle": "2024-10-21T05:23:16.802749Z",
          "shell.execute_reply.started": "2024-10-21T05:23:16.789967Z",
          "shell.execute_reply": "2024-10-21T05:23:16.801555Z"
        },
        "id": "0YbmVYBhKJWB",
        "outputId": "9fd3c8c8-51a5-4386-be95-57ea6d146f7f"
      },
      "outputs": [
        {
          "execution_count": 29,
          "output_type": "execute_result",
          "data": {
            "text/plain": "0.9655172413793104"
          },
          "metadata": {}
        }
      ],
      "execution_count": null
    },
    {
      "cell_type": "code",
      "source": [
        "recall_score(Y_test,y_pred)"
      ],
      "metadata": {
        "trusted": true,
        "execution": {
          "iopub.status.busy": "2024-10-21T05:24:29.482846Z",
          "iopub.execute_input": "2024-10-21T05:24:29.483444Z",
          "iopub.status.idle": "2024-10-21T05:24:29.497002Z",
          "shell.execute_reply.started": "2024-10-21T05:24:29.483386Z",
          "shell.execute_reply": "2024-10-21T05:24:29.495691Z"
        },
        "id": "WR3LcGVbKJWB",
        "outputId": "562151eb-ac56-4e87-8011-58713d79ccb8"
      },
      "outputs": [
        {
          "execution_count": 30,
          "output_type": "execute_result",
          "data": {
            "text/plain": "0.9539078156312625"
          },
          "metadata": {}
        }
      ],
      "execution_count": null
    },
    {
      "cell_type": "code",
      "source": [
        "f1_score(Y_test,y_pred)"
      ],
      "metadata": {
        "trusted": true,
        "execution": {
          "iopub.status.busy": "2024-10-21T05:30:36.299403Z",
          "iopub.execute_input": "2024-10-21T05:30:36.299863Z",
          "iopub.status.idle": "2024-10-21T05:30:36.311652Z",
          "shell.execute_reply.started": "2024-10-21T05:30:36.299810Z",
          "shell.execute_reply": "2024-10-21T05:30:36.310525Z"
        },
        "id": "AEc0z789KJWB",
        "outputId": "29708875-1853-46e9-f084-f5de08c22057"
      },
      "outputs": [
        {
          "execution_count": 31,
          "output_type": "execute_result",
          "data": {
            "text/plain": "0.9596774193548386"
          },
          "metadata": {}
        }
      ],
      "execution_count": null
    },
    {
      "cell_type": "code",
      "source": [],
      "metadata": {
        "trusted": true,
        "id": "UMtK3Vn9KJWB"
      },
      "outputs": [],
      "execution_count": null
    }
  ]
}